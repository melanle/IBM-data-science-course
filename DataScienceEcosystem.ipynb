{
 "cells": [
  {
   "cell_type": "markdown",
   "id": "68b55a62",
   "metadata": {},
   "source": [
    "# Data Science Tools and Ecosystem"
   ]
  },
  {
   "cell_type": "markdown",
   "id": "1069c288",
   "metadata": {},
   "source": [
    "## In this notebook, Data Science Tools and Ecosystem are summarized."
   ]
  },
  {
   "cell_type": "markdown",
   "id": "f49d0830",
   "metadata": {},
   "source": [
    "__Objectives:__\n",
    "* Popular languages that data scientists use\n",
    "* Commonly used libraries used by data scientists\n",
    "* Data Science Tools"
   ]
  },
  {
   "cell_type": "markdown",
   "id": "b9885142",
   "metadata": {},
   "source": [
    "Some of the popular languages that Data Scientists use are:\n",
    "1) Python\n",
    "2) R\n",
    "3) SQL"
   ]
  },
  {
   "cell_type": "markdown",
   "id": "4d99fe29",
   "metadata": {},
   "source": [
    "Some of the commonly used libraries used by Data Scientists include:\n",
    "1) pandas\n",
    "2) numpy\n",
    "3) matplotlib"
   ]
  },
  {
   "cell_type": "markdown",
   "id": "7dd62f49",
   "metadata": {},
   "source": [
    "\n",
    "|Data Science tools|\n",
    "|------------------|\n",
    "|R studio          |\n",
    "|Github            |\n",
    "|Jupyter lab       |"
   ]
  },
  {
   "cell_type": "markdown",
   "id": "586256a4",
   "metadata": {},
   "source": [
    "### Below are a few examples of evaluating arithmetic expressions in Python"
   ]
  },
  {
   "cell_type": "code",
   "execution_count": 3,
   "id": "28b6754e",
   "metadata": {},
   "outputs": [
    {
     "data": {
      "text/plain": [
       "17"
      ]
     },
     "execution_count": 3,
     "metadata": {},
     "output_type": "execute_result"
    }
   ],
   "source": [
    "(3*4)+5\n",
    "# This a simple arithmetic expression to mutiply then add integers"
   ]
  },
  {
   "cell_type": "code",
   "execution_count": 5,
   "id": "9035053e",
   "metadata": {},
   "outputs": [
    {
     "name": "stdout",
     "output_type": "stream",
     "text": [
      "5.0\n"
     ]
    }
   ],
   "source": [
    "minutes=300\n",
    "#This will convert 200 minutes to hours by diving by 60\n",
    "hours=300/60\n",
    "print(hours)"
   ]
  },
  {
   "cell_type": "markdown",
   "id": "db8b5595",
   "metadata": {},
   "source": [
    "## Author\n",
    "Melanie"
   ]
  },
  {
   "cell_type": "code",
   "execution_count": null,
   "id": "34c50a5d",
   "metadata": {},
   "outputs": [],
   "source": []
  }
 ],
 "metadata": {
  "kernelspec": {
   "display_name": "Python 3 (ipykernel)",
   "language": "python",
   "name": "python3"
  },
  "language_info": {
   "codemirror_mode": {
    "name": "ipython",
    "version": 3
   },
   "file_extension": ".py",
   "mimetype": "text/x-python",
   "name": "python",
   "nbconvert_exporter": "python",
   "pygments_lexer": "ipython3",
   "version": "3.11.3"
  }
 },
 "nbformat": 4,
 "nbformat_minor": 5
}
